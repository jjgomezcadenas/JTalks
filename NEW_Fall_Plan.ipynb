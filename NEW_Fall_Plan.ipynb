{
 "cells": [
  {
   "cell_type": "code",
   "execution_count": 3,
   "metadata": {
    "collapsed": true,
    "slideshow": {
     "slide_type": "skip"
    }
   },
   "outputs": [],
   "source": [
    "%matplotlib inline"
   ]
  },
  {
   "cell_type": "code",
   "execution_count": 1,
   "metadata": {
    "collapsed": true,
    "slideshow": {
     "slide_type": "skip"
    }
   },
   "outputs": [],
   "source": [
    "import numpy as np\n",
    "import matplotlib.pyplot as plt"
   ]
  },
  {
   "cell_type": "raw",
   "metadata": {
    "slideshow": {
     "slide_type": "skip"
    }
   },
   "source": [
    "<style type=\"text/css\">\n",
    ".reveal h1, .reveal h2 {\n",
    "    font-family:\"League Gothic\"\n",
    "}\n",
    "</style>"
   ]
  },
  {
   "cell_type": "markdown",
   "metadata": {
    "slideshow": {
     "slide_type": "slide"
    }
   },
   "source": [
    "# <center>  Plan for NEW, Fall 2016 </center>"
   ]
  },
  {
   "cell_type": "markdown",
   "metadata": {
    "slideshow": {
     "slide_type": "slide"
    }
   },
   "source": [
    "\n",
    "## September: \n",
    "\n",
    "### Complete setup for xenon run\n",
    "\n",
    "a. Fix remaining leaks (Cryo-recovery)\n",
    "\n",
    "b. Install large hot getter.\n",
    "    \n",
    "c. Improve vaccuum in NEW: pumping, heating, argon cleaning.\n",
    "    \n",
    "d. Install upgraded Anode HVFT.\n",
    "    \n",
    "e. Run a Krypton calibration  + Na22 calibration with argon: Deconvolve signals\n",
    "    \n",
    "f. Monitor the system, to demonstrate that it can run for an extended period without leaks (both vacuum and pressure).\n",
    "    \n",
    "g. Calibrate PMTs and SiPMs\n",
    "    \n",
    "f. Demonstrate a successful cryo-recovery\n",
    "    \n",
    "#### Then, request permision from LSC to run depleted xenon\n",
    "\n"
   ]
  },
  {
   "cell_type": "markdown",
   "metadata": {
    "slideshow": {
     "slide_type": "slide"
    }
   },
   "source": [
    "## October & November\n",
    "\n",
    "### First xenon run\n",
    "\n",
    "a. Krypton Calibration\n",
    "\n",
    "b. Na-22 Calibration\n",
    "\n",
    "c. High-energy source calibration\n"
   ]
  },
  {
   "cell_type": "markdown",
   "metadata": {
    "slideshow": {
     "slide_type": "subslide"
    }
   },
   "source": [
    "### Radioactive sources\n",
    "\n",
    "1. Krypton available: TD: fix potential leak in Krypton leg, and try it!\n",
    "\n",
    "2. Na-22 1 MBq source ordered, should be avaialble in October, fits in port.\n",
    "\n",
    "3. What to do with high-energy source calibration?\n",
    "\n",
    "    a. Tl: low activity, expensive.\n",
    "    \n",
    "    b. Others: Decay rate too fast (also expensive)"
   ]
  },
  {
   "cell_type": "markdown",
   "metadata": {
    "slideshow": {
     "slide_type": "slide"
    }
   },
   "source": [
    "## Hardware issues\n",
    "\n",
    "a. What is the maximum HV that we can achieve in Cathode/Anode? \n",
    "\n",
    "b. Operating pressure (depends on *a* assume 5 bar for first run)\n",
    "\n",
    "c. Electron lifetime (how much can we clean the gas?)\n",
    "\n",
    "d. Stability against sparks \n",
    "    1. How many sparks per unit time (as a function of anode voltage)\n",
    "    2. Do SiPMs tolerate sparks?\n",
    "    3. Damage to grids?\n",
    "\n",
    "e. Operation stability (leaks, etc.) "
   ]
  },
  {
   "cell_type": "markdown",
   "metadata": {
    "slideshow": {
     "slide_type": "slide"
    }
   },
   "source": [
    "## Software issues\n",
    "\n",
    "a. Trigger\n",
    "\n",
    "b. Deconvolution\n",
    "\n",
    "C. Sensor calibration\n",
    "\n",
    "c. Simulation"
   ]
  },
  {
   "cell_type": "markdown",
   "metadata": {
    "slideshow": {
     "slide_type": "subslide"
    }
   },
   "source": [
    "### Trigger\n",
    "\n",
    "a. Best is to tigger in S2, then locate S1.\n",
    "\n",
    "b. This may be almost compulsory for Krypton.\n",
    "\n",
    "c. Trigger scheme: Duplicate 2-4 PMT channels for trigger:\n",
    "    \n",
    "    1. 12 channels are output to file with no deconvolution (to be done offline)\n",
    "    \n",
    "    2. 2-4 channels are passed by FPGA and used for S2 trigger."
   ]
  },
  {
   "cell_type": "markdown",
   "metadata": {
    "slideshow": {
     "slide_type": "subslide"
    }
   },
   "source": [
    "### Sensor calibration\n",
    "\n",
    "a. Freeze methodology for PMT and SiPM calibration.\n",
    "\n",
    "b. Can be done already during Argon run."
   ]
  },
  {
   "cell_type": "markdown",
   "metadata": {
    "slideshow": {
     "slide_type": "subslide"
    }
   },
   "source": [
    "### Deconvolution\n",
    "\n",
    "1. Online: Ready for FPGA calibration (Raul)\n",
    "\n",
    "2. Offline: Python code developed by VH and JJGC over the summer\n",
    "\n",
    "3. First xenon run: Online for trigger, offline for analysis, then evaluate."
   ]
  },
  {
   "cell_type": "markdown",
   "metadata": {
    "slideshow": {
     "slide_type": "subslide"
    }
   },
   "source": [
    "### Simulation\n",
    "\n",
    "1. Massive Kr and Na-22 production needed (for yesterday).\n",
    "\n",
    "2. Production must output Monte Carlo Raw Data (1 ns bins) as input to FEE simulation and deconvolution. A much involved process than previous productions (more on this later).\n",
    "\n",
    "3. Goals of Kr and Na-22 MC productions include:\n",
    "\n",
    "    a. Understand the effect of deconvolution in energy resolution\n",
    "    \n",
    "    b. Understand other effects (PMT calibration, geometrical corrections).\n",
    "    \n",
    "    c. Resolution and reconstruction efficiency as a function of radius.\n",
    "    \n",
    "    d. Electron lifetime (enough S1 efficiency to measure with Krypton?)\n",
    "    \n",
    "    e. Track reconstruction (Na-22 run). "
   ]
  },
  {
   "cell_type": "markdown",
   "metadata": {
    "slideshow": {
     "slide_type": "slide"
    }
   },
   "source": [
    "## Goals for the Fall campaign:\n",
    "\n",
    "1. Start xenon run in October (two months run)\n",
    "\n",
    "2. Complete at least a massive calibration with Krypton and Na-22.\n",
    "\n",
    "3. Understand effect of deconvolution in energy resolution (and hopefully demonstrate that effect is small)\n",
    "\n",
    "4. First run of results (energy calibration, track reconstruction) to be presented in the DBD workshop in Japan (November) and to the LSC-SC. "
   ]
  },
  {
   "cell_type": "markdown",
   "metadata": {
    "slideshow": {
     "slide_type": "slide"
    }
   },
   "source": [
    "## News from NEW\n",
    "\n",
    "1. We have some additional funding (PROMETEO). Main use: Pay running costs.\n",
    "\n",
    "2. FOA for DBD experiments launched in the US. The US branch of NEXT will be applying in the next few weeks!\n",
    "\n",
    "3. We are hiring a new person (Mafalda Musti) as safety engineer/GLIMOS/Link with LSC. Mafalda will be permanently in Canfranc.\n",
    "\n",
    "4. We welcome two new students this fall. Ryan (Grisolía Fellow) and Ale-Alex-Alejandro (research training). Ryan will most likely focus in instrumentation (Francesc) . Alec will be working with Josh & YT in DNN reconstruction."
   ]
  },
  {
   "cell_type": "markdown",
   "metadata": {
    "slideshow": {
     "slide_type": "slide"
    }
   },
   "source": [
    "## Running the ship: a proposal\n",
    "\n",
    "1. Hardware: Curro (HPM), Francesc (TC), Joaquim/Marc (GS) Vicente (EP), Javi R (TP) and Raul (DAQ).\n",
    "\n",
    "2. Software: JA (SPM), Michel (AC), Pau (SC), Andrew (Rec), Paola (MC), Neus (Production), and JV (computing)\n",
    "\n",
    "3. Technical board: All the hats above + 2 CSP."
   ]
  },
  {
   "cell_type": "markdown",
   "metadata": {
    "slideshow": {
     "slide_type": "subslide"
    }
   },
   "source": [
    "###  Technical board\n",
    "\n",
    "1. Hardware TB run by Curro. Calls meetings, writes summary (in TeamWork).\n",
    "\n",
    "2. Software TB run by JA. Ditto.\n",
    "\n",
    "3. HTB and STB meet once per week.\n",
    "\n",
    "4. Meetings: short and sharp (1 h max, best if 1/2 h). Deal with issues, prepare before hand."
   ]
  },
  {
   "cell_type": "markdown",
   "metadata": {},
   "source": [
    "### FIRST MEETING OF TB (FULL)\n",
    "\n",
    "#### Friday 9 September: Discussion (and decisions) of strategy for Deconvolution (NEW signals)"
   ]
  },
  {
   "cell_type": "markdown",
   "metadata": {
    "slideshow": {
     "slide_type": "subslide"
    }
   },
   "source": [
    "### Other meetings\n",
    "\n",
    "1. Hardware meeting (Curro, Francesc) and Software meeting (Michel, Pau), as usual.\n",
    "\n",
    "2. \"General meeting\" (Neus) at least once a month. "
   ]
  },
  {
   "cell_type": "markdown",
   "metadata": {
    "slideshow": {
     "slide_type": "slide"
    }
   },
   "source": [
    "## Organization of shifts at the LSC\n",
    "\n",
    "1. We keep our two flats for 6 more months.\n",
    "\n",
    "2. Andrew & Jose to organize the shifs at the LSC and the logistics.\n",
    "\n",
    "3. Remember: We need to improvise often. Give your availability, then be ready to go to LSC when your shift is assigned (but don't be surprised if your shift is cancelled or moved)."
   ]
  },
  {
   "cell_type": "markdown",
   "metadata": {
    "slideshow": {
     "slide_type": "slide"
    }
   },
   "source": [
    "# <center> Questions, complains, suggestions? </center>"
   ]
  },
  {
   "cell_type": "markdown",
   "metadata": {
    "slideshow": {
     "slide_type": "slide"
    }
   },
   "source": [
    "\n",
    "\n",
    "<img align=\"center\" src=\"images/thanks.jpg\" width=\"400\" ></img>\n"
   ]
  },
  {
   "cell_type": "markdown",
   "metadata": {
    "slideshow": {
     "slide_type": "skip"
    }
   },
   "source": [
    "# <center> Doing Math with Python </center>\n",
    "\n",
    "\n",
    "<center>\n",
    "\n",
    "\n",
    "<p> <b>Amit Saha</b>\n",
    "\n",
    "<p>May 29, PyCon US 2016 Education Summit\n",
    "\n",
    "<p>Portland, Oregon\n",
    "</center>"
   ]
  },
  {
   "cell_type": "markdown",
   "metadata": {
    "slideshow": {
     "slide_type": "skip"
    }
   },
   "source": [
    "## About me\n",
    "\n",
    "- Software Engineer at [Freelancer.com](https://www.freelancer.com) HQ in Sydney, Australia\n",
    "\n",
    "- Author of \"Doing Math with Python\" (No Starch Press, 2015)\n",
    "\n",
    "- Writes for Linux Voice, Linux Journal, and others.\n",
    "\n",
    "- [Blog](http://echorand.me), [GitHub](http://github.com/amitsaha)\n",
    "\n",
    "\n",
    "#### Contact\n",
    "\n",
    "- [@echorand](http://twitter.com/echorand)\n",
    "\n",
    "- [Email](mailto:amitsaha.in@gmail.com)\n"
   ]
  },
  {
   "cell_type": "markdown",
   "metadata": {
    "slideshow": {
     "slide_type": "skip"
    }
   },
   "source": [
    "<center><font size=\"12\"> Slides: https://doingmathwithpython.github.io/pycon-us-2016/</font> </center>\n",
    "<p>\n",
    "<p>\n",
    "<center><font size=\"12\"> All presentation materials: https://github.com/doingmathwithpython</font></center>"
   ]
  },
  {
   "cell_type": "markdown",
   "metadata": {
    "slideshow": {
     "slide_type": "skip"
    }
   },
   "source": [
    "\n",
    "### This talk - a proposal, a hypothesis, a statement\n",
    "\n",
    "What? *Python can lead to a more enriching learning and teaching experience in the classroom* \n",
    "\n",
    "\n",
    "\n",
    "How? *Next slides*\n",
    "\n",
    "\n",
    "\n",
    "\n",
    "\n",
    "\n"
   ]
  },
  {
   "cell_type": "markdown",
   "metadata": {
    "slideshow": {
     "slide_type": "skip"
    }
   },
   "source": [
    "###  Tools (or, Giant shoulders we will stand on)\n",
    "\n",
    "<img align=\"center\" src=\"images/giant_shoulders_collage.jpg\"></img>\n",
    "\n",
    "\n",
    "*Python 3*, *SymPy*, *matplotlib*\n",
    "\n",
    "\n",
    "*Individual logos are copyright of the respective projects. [Source](http://www.orphancaremovement.org/standing-on-the-shoulder-of-giants/) of the \"giant shoulders\" image.\n"
   ]
  },
  {
   "cell_type": "markdown",
   "metadata": {
    "slideshow": {
     "slide_type": "skip"
    }
   },
   "source": [
    "### Python - a scientific calculator\n",
    "\n",
    "\n",
    "\n",
    "Whose calculator looks like this?\n",
    "\n",
    "```python\n",
    ">>> (131 + 21.5 + 100.2 + 88.7 + 99.5 + 100.5 + 200.5)/4\n",
    "185.475\n",
    "```\n",
    "\n",
    "\n",
    "*Python 3 is my favorite calculator (not Python 2 because 1/2 = 0)*\n",
    "\n",
    "Beyond basic operations:\n"
   ]
  },
  {
   "cell_type": "markdown",
   "metadata": {
    "slideshow": {
     "slide_type": "skip"
    }
   },
   "source": [
    "\n",
    "- `fabs()`, `abs()`, `sin()`, `cos()`, `gcd()`, `log()` and more (See [math](https://docs.python.org/3/library/math.html))\n",
    "\n",
    "- Descriptive statistics (See [statistics](https://docs.python.org/3/library/statistics.html#module-statistics))\n"
   ]
  },
  {
   "cell_type": "markdown",
   "metadata": {
    "slideshow": {
     "slide_type": "skip"
    }
   },
   "source": [
    "### Python - a scientific calculator\n",
    "\n",
    "- Develop your own functions: unit conversion, finding correlation, .., anything really\n",
    "\n",
    "- Use PYTHONSTARTUP to extend the battery of readily available mathematical functions\n",
    "\n",
    "```python\n",
    "$ PYTHONSTARTUP=~/work/dmwp/pycon-us-2016/startup_math.py idle3 -s\n",
    "```\n",
    "\n"
   ]
  },
  {
   "cell_type": "markdown",
   "metadata": {
    "slideshow": {
     "slide_type": "skip"
    }
   },
   "source": [
    "\n",
    "### Unit conversion functions\n",
    "\n",
    "```python\n",
    "\n",
    ">>> unit_conversion()\n",
    "1. Kilometers to Miles\n",
    "2. Miles to Kilometers\n",
    "3. Kilograms to Pounds\n",
    "4. Pounds to Kilograms\n",
    "5. Celsius to Fahrenheit\n",
    "6. Fahrenheit to Celsius\n",
    "Which conversion would you like to do? 6\n",
    "Enter temperature in fahrenheit: 98\n",
    "Temperature in celsius: 36.66666666666667\n",
    ">>> \n",
    "\n",
    "```"
   ]
  },
  {
   "cell_type": "markdown",
   "metadata": {
    "slideshow": {
     "slide_type": "skip"
    }
   },
   "source": [
    "### Finding linear correlation\n",
    "\n",
    "```python\n",
    ">>> \n",
    ">>> x = [1, 2, 3, 4]\n",
    ">>> y = [2, 4, 6.1, 7.9]\n",
    ">>> find_corr_x_y(x, y)\n",
    "0.9995411791453812\n",
    "\n",
    "```"
   ]
  },
  {
   "cell_type": "markdown",
   "metadata": {
    "slideshow": {
     "slide_type": "skip"
    }
   },
   "source": [
    "So, that was Python and it's standard libraries. When you bring in third party libraries to the mix, Python becomes a seriously fancy calculator.\n",
    "\n",
    "Who has heard about SymPy?\n",
    "\n",
    "You can give it algebraic expressions to a function and a graph will be created for you.\n",
    "\n",
    "You can give an equation and out comes the solutions for that equation.\n",
    "\n",
    "We can even solve calculus problems."
   ]
  },
  {
   "cell_type": "markdown",
   "metadata": {
    "slideshow": {
     "slide_type": "skip"
    }
   },
   "source": [
    "### Python - a really fancy calculator\n",
    "\n",
    "SymPy - a pure Python symbolic math library\n",
    "\n",
    "*from sympy import awesomeness*  - don't try that :)\n",
    "\n",
    "\n"
   ]
  },
  {
   "cell_type": "code",
   "execution_count": 5,
   "metadata": {
    "collapsed": false,
    "slideshow": {
     "slide_type": "skip"
    }
   },
   "outputs": [
    {
     "data": {
      "image/png": "[encoded data removed]",
      "text/plain": [
       "<matplotlib.figure.Figure at 0x1113f94a8>"
      ]
     },
     "metadata": {},
     "output_type": "display_data"
    }
   ],
   "source": [
    "# Create graphs from algebraic expressions\n",
    "\n",
    "from sympy import Symbol, plot\n",
    "x = Symbol('x')\n",
    "p = plot(2*x**2 + 2*x + 2)\n"
   ]
  },
  {
   "cell_type": "code",
   "execution_count": 13,
   "metadata": {
    "collapsed": false,
    "slideshow": {
     "slide_type": "skip"
    }
   },
   "outputs": [
    {
     "data": {
      "text/plain": [
       "[-1/2]"
      ]
     },
     "execution_count": 13,
     "metadata": {},
     "output_type": "execute_result"
    }
   ],
   "source": [
    "# Solve equations\n",
    "\n",
    "from sympy import solve, Symbol\n",
    "x = Symbol('x')\n",
    "solve(2*x + 1)\n"
   ]
  },
  {
   "cell_type": "code",
   "execution_count": 24,
   "metadata": {
    "collapsed": false,
    "slideshow": {
     "slide_type": "skip"
    }
   },
   "outputs": [
    {
     "data": {
      "text/plain": [
       "1"
      ]
     },
     "execution_count": 24,
     "metadata": {},
     "output_type": "execute_result"
    }
   ],
   "source": [
    "# Limits\n",
    "\n",
    "from sympy import Symbol, Limit, sin\n",
    "x = Symbol('x')\n",
    "Limit(sin(x)/x, x, 0).doit()\n",
    "\n",
    "\n"
   ]
  },
  {
   "cell_type": "code",
   "execution_count": 2,
   "metadata": {
    "collapsed": false,
    "slideshow": {
     "slide_type": "skip"
    }
   },
   "outputs": [
    {
     "data": {
      "image/png": "[encoded data removed]",
      "text/latex": [
       "$$\\left(\\frac{\\left(2 x + 1\\right) \\cos{\\left (x \\right )}}{\\sin{\\left (x \\right )}} + 2 \\log{\\left (\\sin{\\left (x \\right )} \\right )}\\right) \\sin^{2 x + 1}{\\left (x \\right )}$$"
      ],
      "text/plain": [
       "⎛(2⋅x + 1)⋅cos(x)                ⎞    2⋅x + 1   \n",
       "⎜──────────────── + 2⋅log(sin(x))⎟⋅sin       (x)\n",
       "⎝     sin(x)                     ⎠              "
      ]
     },
     "execution_count": 2,
     "metadata": {},
     "output_type": "execute_result"
    }
   ],
   "source": [
    "# Derivative\n",
    "\n",
    "from sympy import Symbol, Derivative, sin, init_printing\n",
    "x = Symbol('x')\n",
    "init_printing()\n",
    "Derivative(sin(x)**(2*x+1), x).doit()"
   ]
  },
  {
   "cell_type": "code",
   "execution_count": 16,
   "metadata": {
    "collapsed": false,
    "slideshow": {
     "slide_type": "skip"
    }
   },
   "outputs": [
    {
     "data": {
      "image/png": "[encoded data removed]",
      "text/latex": [
       "$$\\frac{2 x^{\\frac{3}{2}}}{3}$$"
      ],
      "text/plain": [
       "   3/2\n",
       "2⋅x   \n",
       "──────\n",
       "  3   "
      ]
     },
     "execution_count": 16,
     "metadata": {},
     "output_type": "execute_result"
    }
   ],
   "source": [
    "# Indefinite integral\n",
    "\n",
    "from sympy import Symbol, Integral, sqrt, sin, init_printing\n",
    "x = Symbol('x')\n",
    "init_printing()\n",
    "Integral(sqrt(x)).doit()"
   ]
  },
  {
   "cell_type": "code",
   "execution_count": 19,
   "metadata": {
    "collapsed": false,
    "slideshow": {
     "slide_type": "skip"
    }
   },
   "outputs": [
    {
     "data": {
      "image/png": "[encoded data removed]",
      "text/latex": [
       "$$\\frac{4 \\sqrt{2}}{3}$$"
      ],
      "text/plain": [
       "4⋅√2\n",
       "────\n",
       " 3  "
      ]
     },
     "execution_count": 19,
     "metadata": {},
     "output_type": "execute_result"
    }
   ],
   "source": [
    "# Definite integral\n",
    "\n",
    "from sympy import Symbol, Integral, sqrt\n",
    "x = Symbol('x')\n",
    "Integral(sqrt(x), (x, 0, 2)).doit()"
   ]
  },
  {
   "cell_type": "markdown",
   "metadata": {
    "slideshow": {
     "slide_type": "skip"
    }
   },
   "source": [
    "<center><h1>Can we do more than write smart calculators?</h1></center>\n",
    "\n"
   ]
  },
  {
   "cell_type": "markdown",
   "metadata": {
    "slideshow": {
     "slide_type": "skip"
    }
   },
   "source": [
    "\n",
    "### Python - Making other subjects more lively\n",
    "\n",
    "<img align=\"center\" src=\"images/collage1.png\"></img>\n",
    "\n",
    "\n",
    "- matplotlib\n",
    "\n",
    "- basemap\n",
    "\n",
    "- Interactive Jupyter Notebooks\n",
    "\n"
   ]
  },
  {
   "cell_type": "markdown",
   "metadata": {
    "slideshow": {
     "slide_type": "skip"
    }
   },
   "source": [
    "\n",
    "#### Bringing Science to life\n",
    "\n",
    "*Animation of a Projectile motion* [(Python Source)](https://github.com/doingmathwithpython/pycon-us-2016/blob/master/py-files/projectile_animation.py)\n",
    "\n",
    "\n"
   ]
  },
  {
   "cell_type": "markdown",
   "metadata": {
    "slideshow": {
     "slide_type": "skip"
    }
   },
   "source": [
    "\n",
    "#### The world is your graph paper\n",
    "\n",
    "*Showing places on a digital map* [(Notebook)](https://github.com/doingmathwithpython/pycon-us-2016/blob/master/notebooks/Maps%20using%20Basemap%20-%20demo.ipynb)"
   ]
  },
  {
   "cell_type": "markdown",
   "metadata": {
    "slideshow": {
     "slide_type": "skip"
    }
   },
   "source": [
    "### Book: Doing Math With Python\n",
    "\n",
    "<img align=\"center\" src=\"images/dmwp-cover.png\" href=\"https://doingmathwithpython.github.io\"></img>\n",
    "\n",
    "Overview\n",
    "\n",
    "- All of what I have discussed so far\n",
    "\n",
    "- In addition: Descriptive statistics, Sets and Probability, Random numbers\n",
    "\n",
    "Published by [No Starch Press](https://www.nostarch.com/doingmathwithpython) in August, 2015.\n",
    "\n",
    "*Upcoming/In-progress translations*: Simplified Chinese, Japanese, French and Korean."
   ]
  },
  {
   "cell_type": "markdown",
   "metadata": {
    "collapsed": true,
    "slideshow": {
     "slide_type": "skip"
    }
   },
   "source": [
    "### Advanced libraries\n",
    "\n",
    "- [scipy](https://scipy.org)\n",
    "\n",
    "- [numpy](http://www.numpy.org/)\n",
    "\n",
    "- [scikit-learn](http://scikit-learn.org/stable/)\n",
    "\n",
    "- [pandas](http://pandas.pydata.org/)\n",
    "\n",
    "- [Statsmodels](http://statsmodels.sourceforge.net/)\n",
    "\n"
   ]
  },
  {
   "cell_type": "markdown",
   "metadata": {
    "slideshow": {
     "slide_type": "skip"
    }
   },
   "source": [
    "\n",
    "### Dialogue\n",
    "\n",
    "Questions, Thoughts, comments, discussions? \n",
    "\n",
    "\n",
    "#### Online \n",
    "\n",
    "- Twitter: @echorand\n",
    "\n",
    "- Email: amitsaha.in@gmail.com\n",
    "    \n"
   ]
  },
  {
   "cell_type": "markdown",
   "metadata": {
    "slideshow": {
     "slide_type": "skip"
    }
   },
   "source": [
    "### Links\n",
    "\n",
    "- [Upcoming O'Reilly Webcast](http://www.oreilly.com/pub/e/3712)\n",
    "\n",
    "- [Doing Math with Python](https://nostarch.com/doingmathwithpython)\n",
    "\n",
    "- [Doing Math with Python Blog](https://doingmathwithpython.github.io)\n",
    "\n",
    "- [Doing Math with Python on GitHub](https://github.com/doingmathwithpython)\n",
    "\n"
   ]
  }
 ],
 "metadata": {
  "celltoolbar": "Slideshow",
  "kernelspec": {
   "display_name": "Python 2",
   "language": "python",
   "name": "python2"
  },
  "language_info": {
   "codemirror_mode": {
    "name": "ipython",
    "version": 2
   },
   "file_extension": ".py",
   "mimetype": "text/x-python",
   "name": "python",
   "nbconvert_exporter": "python",
   "pygments_lexer": "ipython2",
   "version": "2.7.11"
  },
  "widgets": {
   "state": {},
   "version": "1.0.0"
  }
 },
 "nbformat": 4,
 "nbformat_minor": 0
}
