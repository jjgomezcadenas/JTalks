{
 "cells": [
  {
   "cell_type": "code",
   "execution_count": 3,
   "metadata": {
    "collapsed": true,
    "slideshow": {
     "slide_type": "skip"
    }
   },
   "outputs": [],
   "source": [
    "%matplotlib inline"
   ]
  },
  {
   "cell_type": "code",
   "execution_count": 1,
   "metadata": {
    "collapsed": true,
    "slideshow": {
     "slide_type": "skip"
    }
   },
   "outputs": [],
   "source": [
    "import numpy as np\n",
    "import matplotlib.pyplot as plt"
   ]
  },
  {
   "cell_type": "raw",
   "metadata": {
    "slideshow": {
     "slide_type": "skip"
    }
   },
   "source": [
    "<style type=\"text/css\">\n",
    ".reveal h1, .reveal h2 {\n",
    "    font-family:\"League Gothic\"\n",
    "}\n",
    "</style>"
   ]
  },
  {
   "cell_type": "markdown",
   "metadata": {
    "slideshow": {
     "slide_type": "slide"
    }
   },
   "source": [
    "# <center>  Plan for NEW, Fall 2016 </center>"
   ]
  },
  {
   "cell_type": "markdown",
   "metadata": {
    "slideshow": {
     "slide_type": "slide"
    }
   },
   "source": [
    "\n",
    "## September: \n",
    "\n",
    "### Complete setup for xenon run\n",
    "\n",
    "a. Fix remaining leaks (Cryo-recovery)\n",
    "\n",
    "b. Install large hot getter.\n",
    "    \n",
    "c. Improve vaccuum in NEW: pumping, heating, argon cleaning.\n",
    "    \n",
    "d. Install upgraded Anode HVFT.\n",
    "    \n",
    "e. Run a Krypton calibration  + Na22 calibration with argon: Deconvolve signals\n",
    "    \n",
    "f. Monitor the system, to demonstrate that it can run for an extended period without leaks (both vacuum and pressure).\n",
    "    \n",
    "g. Calibrate PMTs and SiPMs\n",
    "    \n",
    "f. Demonstrate a successful cryo-recovery\n",
    "    \n",
    "#### Then, request permision from LSC to run depleted xenon\n",
    "\n"
   ]
  },
  {
   "cell_type": "markdown",
   "metadata": {
    "slideshow": {
     "slide_type": "slide"
    }
   },
   "source": [
    "## October & November\n",
    "\n",
    "### First xenon run\n",
    "\n",
    "a. Krypton Calibration\n",
    "\n",
    "b. Na-22 Calibration\n",
    "\n",
    "c. High-energy source calibration\n"
   ]
  },
  {
   "cell_type": "markdown",
   "metadata": {
    "slideshow": {
     "slide_type": "subslide"
    }
   },
   "source": [
    "### Radioactive sources\n",
    "\n",
    "1. Krypton available: TD: fix potential leak in Krypton leg, and try it!\n",
    "\n",
    "2. Na-22 1 MBq source ordered, should be avaialble in October, fits in port.\n",
    "\n",
    "3. What to do with high-energy source calibration?\n",
    "\n",
    "    a. Tl: low activity, expensive.\n",
    "    \n",
    "    b. Others: Decay rate too fast (also expensive)"
   ]
  },
  {
   "cell_type": "markdown",
   "metadata": {
    "slideshow": {
     "slide_type": "slide"
    }
   },
   "source": [
    "## Hardware issues\n",
    "\n",
    "a. What is the maximum HV that we can achieve in Cathode/Anode? \n",
    "\n",
    "b. Operating pressure (depends on *a* assume 5 bar for first run)\n",
    "\n",
    "c. Electron lifetime (how much can we clean the gas?)\n",
    "\n",
    "d. Stability against sparks \n",
    "    1. How many sparks per unit time (as a function of anode voltage)\n",
    "    2. Do SiPMs tolerate sparks?\n",
    "    3. Damage to grids?\n",
    "\n",
    "e. Operation stability (leaks, etc.) "
   ]
  },
  {
   "cell_type": "markdown",
   "metadata": {
    "slideshow": {
     "slide_type": "slide"
    }
   },
   "source": [
    "## Software issues\n",
    "\n",
    "a. Trigger\n",
    "\n",
    "b. Deconvolution\n",
    "\n",
    "C. Sensor calibration\n",
    "\n",
    "c. Simulation"
   ]
  },
  {
   "cell_type": "markdown",
   "metadata": {
    "slideshow": {
     "slide_type": "subslide"
    }
   },
   "source": [
    "### Trigger\n",
    "\n",
    "a. Best is to tigger in S2, then locate S1.\n",
    "\n",
    "b. This may be almost compulsory for Krypton.\n",
    "\n",
    "c. Trigger scheme: Duplicate 2-4 PMT channels for trigger:\n",
    "    \n",
    "    1. 12 channels are output to file with no deconvolution (to be done offline)\n",
    "    \n",
    "    2. 2-4 channels are passed by FPGA and used for S2 trigger."
   ]
  },
  {
   "cell_type": "markdown",
   "metadata": {
    "slideshow": {
     "slide_type": "subslide"
    }
   },
   "source": [
    "### Sensor calibration\n",
    "\n",
    "a. Freeze methodology for PMT and SiPM calibration.\n",
    "\n",
    "b. Can be done already during Argon run."
   ]
  },
  {
   "cell_type": "markdown",
   "metadata": {
    "slideshow": {
     "slide_type": "subslide"
    }
   },
   "source": [
    "### Deconvolution\n",
    "\n",
    "1. Online: Ready for FPGA calibration (Raul)\n",
    "\n",
    "2. Offline: Python code developed by VH and JJGC over the summer\n",
    "\n",
    "3. First xenon run: Online for trigger, offline for analysis, then evaluate."
   ]
  },
  {
   "cell_type": "markdown",
   "metadata": {
    "slideshow": {
     "slide_type": "subslide"
    }
   },
   "source": [
    "### Simulation\n",
    "\n",
    "1. Massive Kr and Na-22 production needed (for yesterday).\n",
    "\n",
    "2. Production must output Monte Carlo Raw Data (1 ns bins) as input to FEE simulation and deconvolution. A much involved process than previous productions (more on this later).\n",
    "\n",
    "3. Goals of Kr and Na-22 MC productions include:\n",
    "\n",
    "    a. Understand the effect of deconvolution in energy resolution\n",
    "    \n",
    "    b. Understand other effects (PMT calibration, geometrical corrections).\n",
    "    \n",
    "    c. Resolution and reconstruction efficiency as a function of radius.\n",
    "    \n",
    "    d. Electron lifetime (enough S1 efficiency to measure with Krypton?)\n",
    "    \n",
    "    e. Track reconstruction (Na-22 run). "
   ]
  },
  {
   "cell_type": "markdown",
   "metadata": {
    "slideshow": {
     "slide_type": "slide"
    }
   },
   "source": [
    "## Goals for the Fall campaign:\n",
    "\n",
    "1. Start xenon run in October (two months run)\n",
    "\n",
    "2. Complete at least a massive calibration with Krypton and Na-22.\n",
    "\n",
    "3. Understand effect of deconvolution in energy resolution (and hopefully demonstrate that effect is small)\n",
    "\n",
    "4. First run of results (energy calibration, track reconstruction) to be presented in the DBD workshop in Japan (November) and to the LSC-SC. "
   ]
  },
  {
   "cell_type": "markdown",
   "metadata": {
    "slideshow": {
     "slide_type": "slide"
    }
   },
   "source": [
    "## News from NEW\n",
    "\n",
    "1. We have some additional funding (PROMETEO). Main use: Pay running costs.\n",
    "\n",
    "2. FOA for DBD experiments launched in the US. The US branch of NEXT will be applying in the next few weeks!\n",
    "\n",
    "3. We are hiring a new person (Mafalda Musti) as safety engineer/GLIMOS/Link with LSC. Mafalda will be permanently in Canfranc.\n",
    "\n",
    "4. We welcome two new students this fall. Ryan (Grisolía Fellow) and Ale-Alex-Alejandro (research training). Ryan will most likely focus in instrumentation (Francesc) . Alec will be working with Josh & YT in DNN reconstruction."
   ]
  },
  {
   "cell_type": "markdown",
   "metadata": {
    "slideshow": {
     "slide_type": "slide"
    }
   },
   "source": [
    "## Running the ship: a proposal\n",
    "\n",
    "1. Hardware: Curro (HPM), Francesc (TC), Joaquim/Marc (GS) Vicente (EP), Javi R (TP) and Raul (DAQ).\n",
    "\n",
    "2. Software: JA (SPM), Michel (AC), Pau (SC), Andrew (Rec), Paola (MC), Neus (Production), and JV (computing)\n",
    "\n",
    "3. Technical board: All the hats above + 2 CSP."
   ]
  },
  {
   "cell_type": "markdown",
   "metadata": {
    "slideshow": {
     "slide_type": "subslide"
    }
   },
   "source": [
    "###  Technical board\n",
    "\n",
    "1. Hardware TB run by Curro. Calls meetings, writes summary (in TeamWork).\n",
    "\n",
    "2. Software TB run by JA. Ditto.\n",
    "\n",
    "3. HTB and STB meet once per week.\n",
    "\n",
    "4. Meetings: short and sharp (1 h max, best if 1/2 h). Deal with issues, prepare before hand."
   ]
  },
  {
   "cell_type": "markdown",
   "metadata": {},
   "source": [
    "### FIRST MEETING OF TB (FULL)\n",
    "\n",
    "#### Friday 9 September: Discussion (and decisions) of strategy for Deconvolution (NEW signals)"
   ]
  },
  {
   "cell_type": "markdown",
   "metadata": {
    "slideshow": {
     "slide_type": "subslide"
    }
   },
   "source": [
    "### Other meetings\n",
    "\n",
    "1. Hardware meeting (Curro, Francesc) and Software meeting (Michel, Pau), as usual.\n",
    "\n",
    "2. \"General meeting\" (Neus) at least once a month. "
   ]
  },
  {
   "cell_type": "markdown",
   "metadata": {
    "slideshow": {
     "slide_type": "slide"
    }
   },
   "source": [
    "## Organization of shifts at the LSC\n",
    "\n",
    "1. We keep our two flats for 6 more months.\n",
    "\n",
    "2. Andrew & Jose to organize the shifs at the LSC and the logistics.\n",
    "\n",
    "3. Remember: We need to improvise often. Give your availability, then be ready to go to LSC when your shift is assigned (but don't be surprised if your shift is cancelled or moved)."
   ]
  },
  {
   "cell_type": "markdown",
   "metadata": {
    "slideshow": {
     "slide_type": "slide"
    }
   },
   "source": [
    "# <center> Questions, complains, suggestions? </center>"
   ]
  },
  {
   "cell_type": "markdown",
   "metadata": {
    "slideshow": {
     "slide_type": "slide"
    }
   },
   "source": [
    "\n",
    "\n",
    "<img align=\"center\" src=\"images/thanks.jpg\" width=\"400\" ></img>\n"
   ]
  }
 ],
 "metadata": {
  "celltoolbar": "Slideshow",
  "kernelspec": {
   "display_name": "Python 2",
   "language": "python",
   "name": "python2"
  },
  "language_info": {
   "codemirror_mode": {
    "name": "ipython",
    "version": 2
   },
   "file_extension": ".py",
   "mimetype": "text/x-python",
   "name": "python",
   "nbconvert_exporter": "python",
   "pygments_lexer": "ipython2",
   "version": "2.7.11"
  },
  "widgets": {
   "state": {},
   "version": "1.0.0"
  }
 },
 "nbformat": 4,
 "nbformat_minor": 0
}
